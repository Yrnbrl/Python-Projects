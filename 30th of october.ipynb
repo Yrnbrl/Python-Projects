{
 "cells": [
  {
   "cell_type": "code",
   "execution_count": 1,
   "id": "020507ef-dcea-4c83-8471-0084c5ff8d09",
   "metadata": {},
   "outputs": [
    {
     "ename": "AttributeError",
     "evalue": "module 'numpy' has no attribute 'arr'",
     "output_type": "error",
     "traceback": [
      "\u001b[1;31m---------------------------------------------------------------------------\u001b[0m",
      "\u001b[1;31mAttributeError\u001b[0m                            Traceback (most recent call last)",
      "Cell \u001b[1;32mIn[1], line 9\u001b[0m\n\u001b[0;32m      5\u001b[0m \u001b[38;5;28;01mimport\u001b[39;00m \u001b[38;5;21;01marray\u001b[39;00m \u001b[38;5;28;01mas\u001b[39;00m \u001b[38;5;21;01marr\u001b[39;00m\n\u001b[0;32m      7\u001b[0m \u001b[38;5;66;03m#Array indexing\u001b[39;00m\n\u001b[1;32m----> 9\u001b[0m arr2\u001b[38;5;241m=\u001b[39mnp\u001b[38;5;241m.\u001b[39marr([\u001b[38;5;241m1\u001b[39m,\u001b[38;5;241m2\u001b[39m,\u001b[38;5;241m3\u001b[39m,\u001b[38;5;241m4\u001b[39m,\u001b[38;5;241m5\u001b[39m,\u001b[38;5;241m6\u001b[39m,\u001b[38;5;241m7\u001b[39m])\n\u001b[0;32m     10\u001b[0m \u001b[38;5;28mprint\u001b[39m(arr[\u001b[38;5;241m0\u001b[39m])\n\u001b[0;32m     11\u001b[0m \u001b[38;5;28mprint\u001b[39m(arr2[\u001b[38;5;241m0\u001b[39m]\u001b[38;5;241m+\u001b[39marr2[\u001b[38;5;241m6\u001b[39m])\n",
      "File \u001b[1;32m~\\anaconda3\\Lib\\site-packages\\numpy\\__init__.py:333\u001b[0m, in \u001b[0;36m__getattr__\u001b[1;34m(attr)\u001b[0m\n\u001b[0;32m    330\u001b[0m     \u001b[38;5;124m\"\u001b[39m\u001b[38;5;124mRemoved in NumPy 1.25.0\u001b[39m\u001b[38;5;124m\"\u001b[39m\n\u001b[0;32m    331\u001b[0m     \u001b[38;5;28;01mraise\u001b[39;00m \u001b[38;5;167;01mRuntimeError\u001b[39;00m(\u001b[38;5;124m\"\u001b[39m\u001b[38;5;124mTester was removed in NumPy 1.25.\u001b[39m\u001b[38;5;124m\"\u001b[39m)\n\u001b[1;32m--> 333\u001b[0m \u001b[38;5;28;01mraise\u001b[39;00m \u001b[38;5;167;01mAttributeError\u001b[39;00m(\u001b[38;5;124m\"\u001b[39m\u001b[38;5;124mmodule \u001b[39m\u001b[38;5;132;01m{!r}\u001b[39;00m\u001b[38;5;124m has no attribute \u001b[39m\u001b[38;5;124m\"\u001b[39m\n\u001b[0;32m    334\u001b[0m                      \u001b[38;5;124m\"\u001b[39m\u001b[38;5;132;01m{!r}\u001b[39;00m\u001b[38;5;124m\"\u001b[39m\u001b[38;5;241m.\u001b[39mformat(\u001b[38;5;18m__name__\u001b[39m, attr))\n",
      "\u001b[1;31mAttributeError\u001b[0m: module 'numpy' has no attribute 'arr'"
     ]
    }
   ],
   "source": [
    "#30th of October\n",
    "\n",
    "\n",
    "import numpy as np\n",
    "import array as arr\n",
    "\n",
    "#Array indexing\n",
    "\n",
    "arr2=np.array([1,2,3,4,5,6,7])\n",
    "print(arr[0])\n",
    "print(arr2[0]+arr2[6])\n",
    "\n"
   ]
  },
  {
   "cell_type": "code",
   "execution_count": null,
   "id": "c5b96dc0-0c4b-437b-99e1-df95a32f199b",
   "metadata": {},
   "outputs": [],
   "source": [
    "#2D Arrays\n",
    "arr=np.array([[1,2,3,4], [5,6,7,8]])\n",
    "print(arr[0,1])\n",
    "print(arr[1,3])"
   ]
  },
  {
   "cell_type": "code",
   "execution_count": null,
   "id": "acd852df-0cec-478f-928b-d8ad1deb71ee",
   "metadata": {},
   "outputs": [],
   "source": [
    "#Negative indexing\n",
    "print(arr[1,-1])"
   ]
  },
  {
   "cell_type": "code",
   "execution_count": null,
   "id": "355df5a9-ca05-4fb6-9b10-56a0c8aaaeff",
   "metadata": {},
   "outputs": [],
   "source": [
    "#Array slicing\n",
    "#slicing in python means taking elements from one given index to another given index\n",
    "\n",
    "arr[1:5]  # 1st to 5th index\n",
    "arr[:3]   # 0 to 3rd index\n",
    "arr[3:]   #3rd to the last index\n",
    "arr[start,finish,step]"
   ]
  },
  {
   "cell_type": "code",
   "execution_count": null,
   "id": "cafb01e8-68e9-4e5b-9f76-e54abd6c5f45",
   "metadata": {},
   "outputs": [],
   "source": [
    "#Numpy array size\n",
    "\n",
    "print(arr2.shape)\n",
    "print(arr.shape)\n",
    "print(arr2)\n",
    "print(arr)"
   ]
  },
  {
   "cell_type": "code",
   "execution_count": 3,
   "id": "9da1d7c8-bd59-4b03-9ce3-70bc3779d064",
   "metadata": {},
   "outputs": [
    {
     "ename": "NameError",
     "evalue": "name 'np' is not defined",
     "output_type": "error",
     "traceback": [
      "\u001b[1;31m---------------------------------------------------------------------------\u001b[0m",
      "\u001b[1;31mNameError\u001b[0m                                 Traceback (most recent call last)",
      "Cell \u001b[1;32mIn[3], line 3\u001b[0m\n\u001b[0;32m      1\u001b[0m \u001b[38;5;66;03m#Numpy array reshaping\u001b[39;00m\n\u001b[1;32m----> 3\u001b[0m arr\u001b[38;5;241m=\u001b[39mnp\u001b[38;5;241m.\u001b[39marray([\u001b[38;5;241m1\u001b[39m,\u001b[38;5;241m2\u001b[39m,\u001b[38;5;241m3\u001b[39m,\u001b[38;5;241m4\u001b[39m,\u001b[38;5;241m5\u001b[39m,\u001b[38;5;241m6\u001b[39m,\u001b[38;5;241m7\u001b[39m,\u001b[38;5;241m8\u001b[39m,\u001b[38;5;241m9\u001b[39m,\u001b[38;5;241m10\u001b[39m,\u001b[38;5;241m11\u001b[39m,\u001b[38;5;241m12\u001b[39m])\n\u001b[0;32m      4\u001b[0m new_arr\u001b[38;5;241m=\u001b[39marr\u001b[38;5;241m.\u001b[39mreshape(\u001b[38;5;241m3\u001b[39m,\u001b[38;5;241m4\u001b[39m)\n\u001b[0;32m      5\u001b[0m \u001b[38;5;28mprint\u001b[39m(new_arr)\n",
      "\u001b[1;31mNameError\u001b[0m: name 'np' is not defined"
     ]
    }
   ],
   "source": [
    "#Numpy array reshaping\n",
    "\n",
    "arr=np.array([1,2,3,4,5,6,7,8,9,10,11,12])\n",
    "new_arr=arr.reshape(3,4)\n",
    "print(new_arr)\n",
    "new_arr2=arr.reshape(3,2,2)\n",
    "print(new_arr2)"
   ]
  },
  {
   "cell_type": "code",
   "execution_count": null,
   "id": "ebd1a9f2-039e-4024-a72c-66b2f4fc4eb9",
   "metadata": {},
   "outputs": [],
   "source": [
    "#Numpy array iterating\n",
    "\n",
    "for x in arr:\n",
    "    print(x)"
   ]
  },
  {
   "cell_type": "code",
   "execution_count": null,
   "id": "45c72a65-9be2-46a0-81bd-723e7a64a175",
   "metadata": {},
   "outputs": [],
   "source": [
    "arr2=np.array([[1,2,3],[4,5,6]])\n",
    "for x in arr2:\n",
    "    for y in x:\n",
    "        print(y)\n"
   ]
  },
  {
   "cell_type": "code",
   "execution_count": null,
   "id": "85ae2b25-e333-47e1-99c7-555e01aa9cda",
   "metadata": {},
   "outputs": [],
   "source": [
    "#Operation on arrays\n",
    "array1=np.array([3,6],[4,2])\n",
    "array2=np.array([10,20],[15,12])\n",
    "print(array1+array2)\n",
    "print(array1-array2)\n",
    "print(array1*array2)\n",
    "\n",
    "#Transpose\n",
    "array1.transpose()"
   ]
  },
  {
   "cell_type": "code",
   "execution_count": null,
   "id": "b11a5d4f-83b2-4d27-931d-c9849671be32",
   "metadata": {},
   "outputs": [],
   "source": [
    "arr=np.array(1,3,0,9,2,7,6)\n",
    "arr.sort()\n",
    "print(arr)"
   ]
  },
  {
   "cell_type": "code",
   "execution_count": null,
   "id": "96a419f1-98be-43a9-9ed1-ec4a49d9891b",
   "metadata": {},
   "outputs": [],
   "source": [
    "#Statistical operations\n",
    "arr=np.array(1,3,0,9,2,7,6)\n",
    "arr2=np.array([-1,2,3],[4,8,55])\n",
    "print(arr.max())\n",
    "print(arr2.max())\n",
    "print(arr.min())\n",
    "print(arr2.min())"
   ]
  },
  {
   "cell_type": "code",
   "execution_count": null,
   "id": "cb43ab00-b94f-481a-84ca-af4976863509",
   "metadata": {},
   "outputs": [],
   "source": [
    "print(arr.sum())\n",
    "print(arr2.sum())"
   ]
  },
  {
   "cell_type": "code",
   "execution_count": null,
   "id": "9f173492-c7b8-4b89-b7a3-4f77e26406c3",
   "metadata": {},
   "outputs": [],
   "source": [
    "print(arr.mean())\n",
    "print(arr2.mean())\n",
    "print(arr.std())\n",
    "print(arr2.std())"
   ]
  },
  {
   "cell_type": "code",
   "execution_count": null,
   "id": "46221b35-4a57-4f6a-b2ec-ca276422b593",
   "metadata": {},
   "outputs": [],
   "source": [
    "#More functions\n",
    "x1=np.arange(0,1,0.2)  #adds 0.2 to 0 untill 1\n",
    "x2=np.linpspace(0,2*np.pi,4)   #creates 4 space between 0 and pi\n",
    "x3=np.zeros((2,3))   #matrix\n",
    "print(x1)\n",
    "print(x2)\n",
    "print(x3)\n",
    "\n"
   ]
  },
  {
   "cell_type": "markdown",
   "id": "a39e6f93-3549-4cfc-839b-f0610056d783",
   "metadata": {},
   "source": [
    "Examples for matplotlib"
   ]
  },
  {
   "cell_type": "code",
   "execution_count": 6,
   "id": "dd419665-b24b-41e0-801c-ea75b37affe0",
   "metadata": {},
   "outputs": [
    {
     "data": {
      "image/png": "[encoded data removed]",
      "text/plain": [
       "<Figure size 640x480 with 1 Axes>"
      ]
     },
     "metadata": {},
     "output_type": "display_data"
    }
   ],
   "source": [
    "import numpy as np\n",
    "import matplotlib.pyplot as plt\n",
    "x=np.linspace(-10,10,1000)\n",
    "y=np.power(x,2)\n",
    "plt.plot(x,y)\n",
    "plt.show()"
   ]
  },
  {
   "cell_type": "code",
   "execution_count": 11,
   "id": "af930c6d-c783-43ec-8fd2-ae1dbed2a044",
   "metadata": {},
   "outputs": [
    {
     "data": {
      "image/png": "[encoded data removed]",
      "text/plain": [
       "<Figure size 640x480 with 1 Axes>"
      ]
     },
     "metadata": {},
     "output_type": "display_data"
    }
   ],
   "source": [
    "x=np.linspace(0,10,50)\n",
    "y1=np.power(x,2)\n",
    "y2=np.power(x,3)\n",
    "plt.plot(x,y1,'b-', label='x2')\n",
    "plt.plot(x,y2,'go', label='x3')\n",
    "plt.xlim((1,5))\n",
    "plt.ylim((0,30))\n",
    "plt.xlabel('x label')\n",
    "plt.ylabel('y label')\n",
    "plt.title('plot title')\n",
    "plt.legend()\n",
    "plt.savefig('another_example.pdf')"
   ]
  },
  {
   "cell_type": "code",
   "execution_count": 14,
   "id": "eccafb28-048f-4b42-97c7-6e6c4806c18b",
   "metadata": {},
   "outputs": [
    {
     "data": {
      "image/png": "[encoded data removed]",
      "text/plain": [
       "<Figure size 640x480 with 1 Axes>"
      ]
     },
     "metadata": {},
     "output_type": "display_data"
    }
   ],
   "source": [
    "t=np.linspace(0,4*np.pi,50)\n",
    "y=np.cos(t)\n",
    "plt.plot(x,y,'b-', label='cos(t)')\n",
    "plt.xlabel('x label')\n",
    "plt.ylabel('y label')\n",
    "plt.title('plot title')\n",
    "plt.legend()\n",
    "plt.savefig('another_example.pdf')"
   ]
  },
  {
   "cell_type": "code",
   "execution_count": 26,
   "id": "4977f591-a74e-4112-8a2c-f51deb6c3738",
   "metadata": {},
   "outputs": [
    {
     "name": "stdin",
     "output_type": "stream",
     "text": [
      "n= 11\n"
     ]
    },
    {
     "name": "stdout",
     "output_type": "stream",
     "text": [
      "89\n"
     ]
    }
   ],
   "source": [
    "#Fibonacci\n",
    "# series of numbers where each number is the sum of two other\n",
    "\n",
    "\n",
    "n= int(input(\"n=\"))\n",
    "\n",
    "def fibonacci(n):\n",
    "    if n<=1:\n",
    "        return n\n",
    "\n",
    "    else:\n",
    "        return fibonacci(n-1)+fibonacci(n-2)\n",
    "\n",
    "\n",
    "fibo= fibonacci(n)\n",
    "print(fibo)\n",
    "\n"
   ]
  },
  {
   "cell_type": "code",
   "execution_count": 12,
   "id": "e3f21f62-8450-4965-8929-87e3e4b8c564",
   "metadata": {},
   "outputs": [
    {
     "name": "stdin",
     "output_type": "stream",
     "text": [
      "n= 5\n"
     ]
    },
    {
     "name": "stdout",
     "output_type": "stream",
     "text": [
      "120\n"
     ]
    }
   ],
   "source": [
    "#Factorial\n",
    "\n",
    "def factorial(n):\n",
    "    if n== 0:\n",
    "        return 1    #Base case: factorial of 0 is 1\n",
    "    else:\n",
    "        return n*factorial(n-1)    #Recursive case: n!=n*(n-1)\n",
    "\n",
    "n= int(input(\"n=\"))\n",
    "fact= factorial(n)\n",
    "print(fact)\n",
    "\n",
    "        "
   ]
  },
  {
   "cell_type": "code",
   "execution_count": 38,
   "id": "f77ca336-560e-4e22-8866-f1d373e8d59c",
   "metadata": {},
   "outputs": [
    {
     "name": "stdin",
     "output_type": "stream",
     "text": [
      "n= 32564\n"
     ]
    },
    {
     "name": "stdout",
     "output_type": "stream",
     "text": [
      "20\n"
     ]
    }
   ],
   "source": [
    "def sum_of_digits(n):\n",
    "    if n<10:\n",
    "        return n\n",
    "    else:\n",
    "        return n%10 + sum_of_digits(n//10)\n",
    "\n",
    "n= int(input(\"n=\"))\n",
    "sum= sum_of_digits(n)\n",
    "print(sum)\n"
   ]
  },
  {
   "cell_type": "code",
   "execution_count": 37,
   "id": "ee0244a4-a16a-4c95-99f4-218cf6365e60",
   "metadata": {},
   "outputs": [
    {
     "name": "stdin",
     "output_type": "stream",
     "text": [
      "n= 9\n"
     ]
    },
    {
     "name": "stdout",
     "output_type": "stream",
     "text": [
      "9\n",
      "8\n",
      "7\n",
      "6\n",
      "5\n",
      "4\n",
      "3\n",
      "2\n",
      "1\n",
      "0\n"
     ]
    }
   ],
   "source": [
    "n= int(input(\"n=\"))\n",
    "\n",
    "def count(n):\n",
    "    if n== 0:\n",
    "        return 0\n",
    "    else:\n",
    "        print(n)\n",
    "        return count(n-1)\n",
    "\n",
    "print(count(n))\n",
    "\n"
   ]
  },
  {
   "cell_type": "code",
   "execution_count": 35,
   "id": "a569921f-3312-4f80-96d0-7aee8b162bdd",
   "metadata": {},
   "outputs": [
    {
     "name": "stdin",
     "output_type": "stream",
     "text": [
      "n= 25\n"
     ]
    },
    {
     "name": "stdout",
     "output_type": "stream",
     "text": [
      "325\n"
     ]
    }
   ],
   "source": [
    "n= int(input(\"n=\"))\n",
    "\n",
    "def sum(n):\n",
    "    if n== 0:\n",
    "        return 0\n",
    "    else:\n",
    "        return sum(n-1)+n\n",
    "\n",
    "print(sum(n))\n"
   ]
  },
  {
   "cell_type": "code",
   "execution_count": null,
   "id": "8d1eb2fa-28b6-4259-857e-938092393703",
   "metadata": {},
   "outputs": [],
   "source": []
  }
 ],
 "metadata": {
  "kernelspec": {
   "display_name": "Python 3 (ipykernel)",
   "language": "python",
   "name": "python3"
  },
  "language_info": {
   "codemirror_mode": {
    "name": "ipython",
    "version": 3
   },
   "file_extension": ".py",
   "mimetype": "text/x-python",
   "name": "python",
   "nbconvert_exporter": "python",
   "pygments_lexer": "ipython3",
   "version": "3.11.7"
  }
 },
 "nbformat": 4,
 "nbformat_minor": 5
}
